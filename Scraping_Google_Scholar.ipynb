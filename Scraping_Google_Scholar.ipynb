{
 "cells": [
  {
   "cell_type": "markdown",
   "id": "8d001b22-1383-4da8-8275-b478b2fcf781",
   "metadata": {},
   "source": [
    "# Scraping Google Scholar with Selenium and Python:\n",
    "\n",
    "Source: https://medium.com/ml-book/web-scraping-using-selenium-python-3be7b8762747\n",
    "\n",
    "**Steps:**\n",
    "\n",
    "1) Install Selenium <br> \n",
    "    conda install -c conda-forge selenium <br>\n",
    "    depending on setup; alternative: pip install selenium\n",
    "    \n",
    "2) Download GeckoDriver <br>\n",
    "    In this case: suited for Firefox - working on a Mac <br>\n",
    "    https://github.com/mozilla/geckodriver/releases?source=post_page-----3be7b8762747--------------------------------"
   ]
  },
  {
   "cell_type": "code",
   "execution_count": 9,
   "id": "fa0e3062-84da-42a9-b25c-c879062d2811",
   "metadata": {
    "tags": []
   },
   "outputs": [],
   "source": [
    "from selenium import webdriver \n",
    "\n",
    "driver = webdriver.Firefox(executable_path= '/Users/sebastian/Downloads/geckodriver')"
   ]
  },
  {
   "cell_type": "markdown",
   "id": "2259ca8a-7d02-4fa7-a89f-f51c8c102fb5",
   "metadata": {
    "tags": []
   },
   "source": [
    "## First problem\n",
    "\n",
    "How do we access all entries on Google Scholar? <br>\n",
    "- there is no API \n",
    "- empty search does not work\n",
    "- empty space does not work\n",
    "\n",
    "**Attempts: <br>**\n",
    "- Advanced search - using * as regex wildcard - only works in combination with a word \n",
    "- Limit search by year only appears after a search result. Setting a timeframe and removing the search term leads to results that are not specific to the term but the amount of results indicates that something is wrong. It might be that we only get a subset of results that include the removed search term but there is no indication for that. Nonetheless, this approach should be reviewed rigorously. \n",
    "    - 2001 till 2024 = 1 040 000 Results (0,04 Sec.)\n",
    "    - 2005 till 2024 = 1 150 000 Results (0,03 Sec.)\n",
    "    \n",
    "    - 2023 till 2023 = 6 960 000 Results (0,03 Sec.)\n",
    "    - 2023 till 2024 = 3 030 000 Results (0,03 Sec.)\n",
    "    \n",
    "**Conclusion: <br>**\n",
    "It seems that 1 million and 1.5 million results are some sort of barrier. <br>\n",
    "If the search is to unspecific, the result is cut somewhere in this area. However, by choosing smaller timeframes, the results appear to be more reliable, Even though there is little to verify that. Searching with the wildcard \"*\" works as long as further constraints are used. <br>\n",
    "\n",
    "**Possible solution: <br>**\n",
    "Search systematically by selecting only a subset of years in each search.\n",
    "If we are interested in very old documents, we could work with bigger timeframes, but in general, it seems like the amount of results per year is getting bigger the closer we get to the current year. This fits the expectations. \n",
    "\n",
    "**Exploring alternatives: <br>**\n",
    "Using the Google Scholar API seems to be the better choice. However, getting all results without a search term persits as a challenge. \n",
    "Additionally the \"Free Plan\" provides only 100 searches / month even with 3 team members 300 searches / month might be problematic. \n",
    "\n",
    "Questions: \n",
    "- How much of the data can we get with 1 search? "
   ]
  },
  {
   "cell_type": "code",
   "execution_count": 10,
   "id": "7ba7a5ba-865b-4ebe-a4e5-0a393cc4b719",
   "metadata": {},
   "outputs": [],
   "source": [
    "driver.get('https://scholar.google.com/scholar?q=*&hl=de&as_sdt=0%2C5&as_ylo=2000&as_yhi=2000')"
   ]
  },
  {
   "cell_type": "markdown",
   "id": "c3fb11b2-8989-49fa-a2f4-3227e52dac70",
   "metadata": {},
   "source": [
    "**Goals: <br>**\n",
    "1) Keep the interaction with the website as easy as possible from a coding point of view\n",
    "2) Automate the process as much as possible\n",
    "\n",
    "In order to satisfy both constraints we can use the structure of Google Scholar links.\n",
    "Searching for the wildcard \"*\" and setting a timeframe once provides us with a working link. Furthermore, we simply can change the years and get a working search out of it. \n",
    "\n",
    "Therefore creating those searches with a simple loop iterating from year x to year y should do the job. \n",
    "\n",
    "**Steps: <br>**\n",
    "\n",
    "3) Start building a scraper suited for Google Scholar results. "
   ]
  },
  {
   "cell_type": "code",
   "execution_count": 19,
   "id": "80d26053-30e8-41a9-925b-da5078fe4684",
   "metadata": {
    "tags": []
   },
   "outputs": [
    {
     "data": {
      "text/plain": [
       "1"
      ]
     },
     "execution_count": 19,
     "metadata": {},
     "output_type": "execute_result"
    }
   ],
   "source": [
    "container_main_body = driver.find_elements_by_id('gs_res_ccl_mid')\n",
    "len(container_main_body)"
   ]
  },
  {
   "cell_type": "code",
   "execution_count": 24,
   "id": "933d7601-f401-4e0f-a96b-332597e9a92f",
   "metadata": {
    "tags": []
   },
   "outputs": [
    {
     "data": {
      "text/plain": [
       "10"
      ]
     },
     "execution_count": 24,
     "metadata": {},
     "output_type": "execute_result"
    }
   ],
   "source": [
    "results = driver.find_elements_by_class_name('gs_ri')\n",
    "len(results)"
   ]
  },
  {
   "cell_type": "markdown",
   "id": "4b78e88d-d54f-48d9-8d4f-f9fd4d2f72e7",
   "metadata": {},
   "source": [
    "**Google Scholar Body: <br>**\n",
    "\n",
    "Nested within further layers, the body is within a container with the id \"gs_res_ccl_mid\". Within this container are more containers with the class attribute \"gs_r gs_or gs_scl\". Within those containers are the individual entries. Some contain more than one child, in cases were direct links for example to pdfs are available but we are interested in the container(s) from the class \"gs_ri\". "
   ]
  },
  {
   "cell_type": "code",
   "execution_count": null,
   "id": "e0bbba44-f750-48ae-9e40-313f21cbe6f1",
   "metadata": {},
   "outputs": [],
   "source": []
  }
 ],
 "metadata": {
  "kernelspec": {
   "display_name": "Python 3 (ipykernel)",
   "language": "python",
   "name": "python3"
  },
  "language_info": {
   "codemirror_mode": {
    "name": "ipython",
    "version": 3
   },
   "file_extension": ".py",
   "mimetype": "text/x-python",
   "name": "python",
   "nbconvert_exporter": "python",
   "pygments_lexer": "ipython3",
   "version": "3.11.5"
  }
 },
 "nbformat": 4,
 "nbformat_minor": 5
}
