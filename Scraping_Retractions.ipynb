{
 "cells": [
  {
   "cell_type": "markdown",
   "id": "696eb17a-c29f-4091-925e-4a11460d1162",
   "metadata": {},
   "source": [
    "# Scraping Retraction Database\n",
    "\n",
    "Link: http://retractiondatabase.org/RetractionSearch.aspx\n",
    "\n",
    "First block contains:\n",
    "- necessary imports\n",
    "- functions"
   ]
  },
  {
   "cell_type": "code",
   "execution_count": 11,
   "id": "f426dec4-c573-4828-a6d3-de2092248d4d",
   "metadata": {
    "tags": []
   },
   "outputs": [],
   "source": [
    "from selenium import webdriver\n",
    "from selenium.webdriver.common.by import By\n",
    "from selenium.webdriver.support.ui import WebDriverWait\n",
    "from selenium.webdriver.support import expected_conditions as EC\n",
    "\n",
    "import time\n",
    "\n",
    "\n",
    "\"\"\"\n",
    "Function: insert_and_submit(value)\n",
    "\n",
    "Handles the search form of the website.\n",
    "In our case we need to select a journal from the list and submit.\n",
    "\"\"\"\n",
    "def insert_and_submit(value):\n",
    "    # Selects the corresponding element in the form to select a journal.\n",
    "    driver.find_element_by_id(\"txtSrchJournal\").send_keys(value)\n",
    "    \n",
    "    # Wait for the dropdown menu to appear. \n",
    "    WebDriverWait(driver, 10).until(EC.visibility_of_element_located((By.CSS_SELECTOR, \".ui-menu-item\")))\n",
    "    \n",
    "    # Click on the first option in the dropdown menu\n",
    "    driver.find_element_by_css_selector(\".ui-menu-item\").click()\n",
    "    \n",
    "    # Add a short delay before submitting to ensure everything is loaded properly\n",
    "    time.sleep(1)\n",
    "    \n",
    "    # Submit the form\n",
    "    driver.find_element_by_id(\"btnSearch\").click()\n",
    "    \n",
    "\n",
    "\"\"\"\n",
    "Function extract_row_data(row)\n",
    "\n",
    "Extracting data in one row; this function is called from within another function.\n",
    "Purpose is to avoid to convoluted functions. \n",
    "\n",
    "TODO: rewrite to save from which column the data is\n",
    "\"\"\"\n",
    "def extract_row_data(row):\n",
    "    data = []\n",
    "\n",
    "    # Iterate over each td element in the row\n",
    "    for td in row.find_elements_by_tag_name(\"td\"):\n",
    "        # Extract text and append to the data list\n",
    "        data.append(td.text)\n",
    "    return data\n",
    "\n",
    "\n",
    "\"\"\" \n",
    "Function print_row_data(all_data_rows)\n",
    "\n",
    "\"\"\"\n",
    "def print_row_data(all_data_rows):\n",
    "    \n",
    "    row_counter = 1\n",
    "    \n",
    "    for row in all_data_rows:\n",
    "        print(\"Row: \" + str(row_counter))\n",
    "        row_counter = row_counter + 1 \n",
    "        \n",
    "        for element in row:\n",
    "            print(element)\n",
    "        \n",
    "    \n"
   ]
  },
  {
   "cell_type": "markdown",
   "id": "9eab0aa9-fd1c-459a-a5d7-5c180c49ee89",
   "metadata": {},
   "source": [
    "# Input - Block\n",
    "\n",
    "Next block can be used to define what journal(s) should be scraped. <br>\n",
    "The ability to input a list as well as other parameters can be added later."
   ]
  },
  {
   "cell_type": "code",
   "execution_count": null,
   "id": "3a646a27-9c64-45eb-838a-f9c27b7a89c1",
   "metadata": {},
   "outputs": [],
   "source": [
    "#journal = \"Digital Scholarship in the Humanities\"\n",
    "#journal = \"Artificial Intelligence and Computational Intelligence (AICI 2009)\"\n",
    "#journal = \"Artificial Intelligence in China (Proceedings of the 2nd International Conference on Artificial Intelligence in China)\"\n",
    "\n",
    "# ... \n",
    "\n",
    "journal = \"Applied Artificial Intelligence\""
   ]
  },
  {
   "cell_type": "code",
   "execution_count": 8,
   "id": "f11361ee-22ef-4039-b296-8d16b5f4d7c5",
   "metadata": {
    "tags": []
   },
   "outputs": [
    {
     "name": "stdout",
     "output_type": "stream",
     "text": [
      "Row 1: ['', 'Wind Farm Layout Design Using Cuckoo Search Algorithms\\n(B/T) Computer Science; (ENV) Environmental Sciences; (PHY) Energy;\\nApplied Artificial Intelligence ---Taylor and Francis\\nResearch Institute, King Fahd University of Petroleum & Minerals, Dhahran, Saudi Arabia Center of Intelligent Signal & Imaging Research, Universiti Teknologi PETRONAS, Bandar Seri Iskandar, Tronoh, Malaysia Computer Science Department, University of Pretoria, Pretoria, South Africa', '+Duplicate Publication through Error by Journal/Publisher', 'Shafiqur Rehman\\nS S Ali\\nS A Kahn', '10/11/2018\\n00000000\\n10.1080/08839514.2018.1525521', '06/30/2021\\n00000000\\n10.1080/08839514.2021.1940459', 'Research Article\\nRetraction', 'Malaysia\\nSaudi Arabia\\nSouth Africa\\nNo']\n",
      "Row 2: ['', 'Automated Text Summarization: An Overview\\n(B/T) Data Science;\\nApplied Artificial Intelligence ---Taylor and Francis\\nComputer Department , University College of Nabi Akram , Tabriz , Iran Computer Department , University of Tabriz , Tabriz , Iran', '+Euphemisms for Plagiarism\\n+Investigation by Journal/Publisher\\n+Plagiarism of Article', 'Majid Ramezani\\nMohammad-Reza Feizi-Derakhshi', '03/03/2014\\n00000000\\n10.1080/08839514.2014.862783', '10/07/2014\\n00000000\\n10.1080/08839514.2014.952982', 'Research Article\\nRetraction', 'Iran\\nNo']\n"
     ]
    }
   ],
   "source": [
    "\n",
    "# Step 1:\n",
    "# Open the website and set up selenium driver.\n",
    "url = \"http://retractiondatabase.org/RetractionSearch.aspx\"\n",
    "driver = webdriver.Firefox(executable_path= '/Users/sebastian/Downloads/geckodriver')\n",
    "driver.get(url)\n",
    "\n",
    "# Wait for 10 seconds because the page takes a time to load.\n",
    "# This step is not repeated so we can wait long enough to be sure everything is loaded.\n",
    "time.sleep(10)\n",
    "\n",
    "# Step 2:\n",
    "# Insert value and submit the form\n",
    "insert_and_submit(journal)\n",
    "\n",
    "# Step 3:\n",
    "# Find all rows with class \"mainrow\"\n",
    "rows = WebDriverWait(driver, 10).until(EC.presence_of_all_elements_located((By.CSS_SELECTOR, \"tr.mainrow\")))\n",
    "\n",
    "# Step 4:\n",
    "# Iterate over each row, extract data, and append to the list\n",
    "all_rows_data = []\n",
    "\n",
    "for row in rows:\n",
    "    row_data = extract_row_data(row)\n",
    "    all_rows_data.append(row_data)\n",
    "\n",
    "# Step 5:\n",
    "# Print or export data\n",
    "print_row_data(all_rows_data)"
   ]
  },
  {
   "cell_type": "code",
   "execution_count": 13,
   "id": "9ac32152-94ca-412d-9e27-23497539fc3f",
   "metadata": {
    "tags": []
   },
   "outputs": [
    {
     "name": "stdout",
     "output_type": "stream",
     "text": [
      "Row: 1\n",
      "\n",
      "Wind Farm Layout Design Using Cuckoo Search Algorithms\n",
      "(B/T) Computer Science; (ENV) Environmental Sciences; (PHY) Energy;\n",
      "Applied Artificial Intelligence ---Taylor and Francis\n",
      "Research Institute, King Fahd University of Petroleum & Minerals, Dhahran, Saudi Arabia Center of Intelligent Signal & Imaging Research, Universiti Teknologi PETRONAS, Bandar Seri Iskandar, Tronoh, Malaysia Computer Science Department, University of Pretoria, Pretoria, South Africa\n",
      "+Duplicate Publication through Error by Journal/Publisher\n",
      "Shafiqur Rehman\n",
      "S S Ali\n",
      "S A Kahn\n",
      "10/11/2018\n",
      "00000000\n",
      "10.1080/08839514.2018.1525521\n",
      "06/30/2021\n",
      "00000000\n",
      "10.1080/08839514.2021.1940459\n",
      "Research Article\n",
      "Retraction\n",
      "Malaysia\n",
      "Saudi Arabia\n",
      "South Africa\n",
      "No\n",
      "Row: 1\n",
      "\n",
      "Automated Text Summarization: An Overview\n",
      "(B/T) Data Science;\n",
      "Applied Artificial Intelligence ---Taylor and Francis\n",
      "Computer Department , University College of Nabi Akram , Tabriz , Iran Computer Department , University of Tabriz , Tabriz , Iran\n",
      "+Euphemisms for Plagiarism\n",
      "+Investigation by Journal/Publisher\n",
      "+Plagiarism of Article\n",
      "Majid Ramezani\n",
      "Mohammad-Reza Feizi-Derakhshi\n",
      "03/03/2014\n",
      "00000000\n",
      "10.1080/08839514.2014.862783\n",
      "10/07/2014\n",
      "00000000\n",
      "10.1080/08839514.2014.952982\n",
      "Research Article\n",
      "Retraction\n",
      "Iran\n",
      "No\n"
     ]
    }
   ],
   "source": [
    "print_row_data(all_rows_data)"
   ]
  },
  {
   "cell_type": "code",
   "execution_count": null,
   "id": "a2784f8e-9998-492e-ac18-9099a2d7c91d",
   "metadata": {},
   "outputs": [],
   "source": []
  }
 ],
 "metadata": {
  "kernelspec": {
   "display_name": "Python 3 (ipykernel)",
   "language": "python",
   "name": "python3"
  },
  "language_info": {
   "codemirror_mode": {
    "name": "ipython",
    "version": 3
   },
   "file_extension": ".py",
   "mimetype": "text/x-python",
   "name": "python",
   "nbconvert_exporter": "python",
   "pygments_lexer": "ipython3",
   "version": "3.11.5"
  }
 },
 "nbformat": 4,
 "nbformat_minor": 5
}
