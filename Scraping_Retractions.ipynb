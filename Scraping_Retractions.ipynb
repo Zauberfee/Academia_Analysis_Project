{
 "cells": [
  {
   "cell_type": "code",
   "execution_count": 5,
   "id": "72df6d32-a8a3-4a7e-8cc0-aade57f7a1f2",
   "metadata": {
    "tags": []
   },
   "outputs": [],
   "source": [
    "from selenium import webdriver\n",
    "from selenium.webdriver.common.by import By\n",
    "from selenium.webdriver.support.ui import WebDriverWait\n",
    "from selenium.webdriver.support import expected_conditions as EC\n",
    "\n",
    "import time\n",
    "\n",
    "def insert_and_submit(value):\n",
    "    driver.find_element_by_id(\"txtSrchJournal\").send_keys(value)\n",
    "    # Wait for the dropdown menu to appear\n",
    "    WebDriverWait(driver, 10).until(EC.visibility_of_element_located((By.CSS_SELECTOR, \".ui-menu-item\")))\n",
    "    # Click on the first option in the dropdown menu\n",
    "    driver.find_element_by_css_selector(\".ui-menu-item\").click()\n",
    "    # Add a short delay before submitting to ensure everything is loaded properly\n",
    "    time.sleep(1)\n",
    "    # Submit the form\n",
    "    driver.find_element_by_id(\"btnSearch\").click()\n",
    "\n",
    "# Open the website\n",
    "url = \"http://retractiondatabase.org/RetractionSearch.aspx\"\n",
    "driver = webdriver.Firefox(executable_path= '/Users/sebastian/Downloads/geckodriver')\n",
    "driver.get(url)\n",
    "\n",
    "time.sleep(10)\n",
    "\n",
    "# Insert value and submit the form\n",
    "value = \"Applied Artificial Intelligence\"  # or you can use a number like \"893\"\n",
    "insert_and_submit(value)\n",
    "\n",
    "# After submitting, you can add further actions here, such as scraping the results\n",
    "\n",
    "# Close the browser\n",
    "#driver.quit()\n"
   ]
  },
  {
   "cell_type": "code",
   "execution_count": null,
   "id": "0f8352b4-f4dc-400e-8f08-a885dd82ee8d",
   "metadata": {},
   "outputs": [],
   "source": []
  }
 ],
 "metadata": {
  "kernelspec": {
   "display_name": "Python 3 (ipykernel)",
   "language": "python",
   "name": "python3"
  },
  "language_info": {
   "codemirror_mode": {
    "name": "ipython",
    "version": 3
   },
   "file_extension": ".py",
   "mimetype": "text/x-python",
   "name": "python",
   "nbconvert_exporter": "python",
   "pygments_lexer": "ipython3",
   "version": "3.11.5"
  }
 },
 "nbformat": 4,
 "nbformat_minor": 5
}
